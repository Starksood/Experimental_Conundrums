{
  "nbformat": 4,
  "nbformat_minor": 0,
  "metadata": {
    "colab": {
      "name": "MultiClass Classification Rock/Paper/Scissocs.ipynb",
      "provenance": [],
      "authorship_tag": "ABX9TyOHL6os77MgMKvIWjWc2qkk",
      "include_colab_link": true
    },
    "kernelspec": {
      "name": "python3",
      "display_name": "Python 3"
    },
    "language_info": {
      "name": "python"
    }
  },
  "cells": [
    {
      "cell_type": "markdown",
      "metadata": {
        "id": "view-in-github",
        "colab_type": "text"
      },
      "source": [
        "<a href=\"https://colab.research.google.com/github/Starksood/Experimental_Conundrums/blob/main/MultiClass_Classification_Rock_Paper_Scissocs.ipynb\" target=\"_parent\"><img src=\"https://colab.research.google.com/assets/colab-badge.svg\" alt=\"Open In Colab\"/></a>"
      ]
    },
    {
      "cell_type": "code",
      "execution_count": 4,
      "metadata": {
        "colab": {
          "base_uri": "https://localhost:8080/",
          "height": 130
        },
        "id": "wyxgi_TkOD2E",
        "outputId": "13b8ecda-aa51-4075-898e-84184a6f2027"
      },
      "outputs": [
        {
          "output_type": "error",
          "ename": "IndentationError",
          "evalue": "ignored",
          "traceback": [
            "\u001b[0;36m  File \u001b[0;32m\"<ipython-input-4-ee3d15892740>\"\u001b[0;36m, line \u001b[0;32m77\u001b[0m\n\u001b[0;31m    import numpy as np\u001b[0m\n\u001b[0m    ^\u001b[0m\n\u001b[0;31mIndentationError\u001b[0m\u001b[0;31m:\u001b[0m unexpected indent\n"
          ]
        }
      ],
      "source": [
        "#Using the dataset is simple. Download and unzip it—the sorted \n",
        "#subdirectories are  already present in the ZIP file—and then use it\n",
        "# to initialize an ImageDataGenerator:\n",
        "\n",
        "!wget --no-check-certificate \\\n",
        "https://storage.googleapis.com/laurencemoroney-blog.appspot.com/rps.zip \\\n",
        "-O /tmp/rps.zip\n",
        "local_zip = '/tmp/rps.zip'\n",
        "zip_ref = zipfile.ZipFile(local_zip, 'r')\n",
        "zip_ref.extractall('/tmp/')\n",
        "zip_ref.close()\n",
        "TRAINING_DIR = \"/tmp/rps/\"\n",
        "training_datagen = ImageDataGenerator(\n",
        "rescale = 1./255,\n",
        "rotation_range=40,\n",
        "width_shift_range=0.2,\n",
        "height_shift_range=0.2,\n",
        "shear_range=0.2,\n",
        "zoom_range=0.2,\n",
        "horizontal_flip=True,\n",
        "fill_mode='nearest'\n",
        ")\n",
        "#Note, however, that when you set up the data generator \n",
        "#from this, you have to specify that the class mode is categorical\n",
        "# in order for the ImageDataGenerator to use more than two subdirectories:\n",
        "\n",
        "train_generator = training_datagen.flow_from_directory(\n",
        "TRAINING_DIR,\n",
        "target_size=(150,150),\n",
        "class_mode='categorical'\n",
        ")\n",
        "\n",
        "#When defining your model, while keeping an eye on the input and output layers, you\n",
        "#want to ensure that the input matches the shape of the data (in this case 150 × 150)\n",
        "#and that the output matches the number of classes (now three):\n",
        "\n",
        "model = tf.keras.models.Sequential([\n",
        "# Note the input shape is the desired size of the image:\n",
        "# 150x150 with 3 bytes color\n",
        "# This is the first convolution\n",
        "tf.keras.layers.Conv2D(64, (3,3), activation='relu',\n",
        "input_shape=(150, 150, 3)),\n",
        "tf.keras.layers.MaxPooling2D(2, 2),\n",
        "# The second convolution\n",
        "tf.keras.layers.Conv2D(64, (3,3), activation='relu'),\n",
        "tf.keras.layers.MaxPooling2D(2,2),\n",
        "# The third convolution\n",
        "tf.keras.layers.Conv2D(128, (3,3), activation='relu'),\n",
        "tf.keras.layers.MaxPooling2D(2,2),\n",
        "# The fourth convolution\n",
        "tf.keras.layers.Conv2D(128, (3,3), activation='relu'),\n",
        "tf.keras.layers.MaxPooling2D(2,2),\n",
        "# Flatten the results to feed into a DNN\n",
        "tf.keras.layers.Flatten(),\n",
        "# 512 neuron hidden layer\n",
        "tf.keras.layers.Dense(512, activation='relu'),\n",
        "tf.keras.layers.Dense(3, activation='softmax')\n",
        "])\n",
        "\n",
        "# Finally, when compiling your model, you want to ensure that it uses a categorical loss\n",
        "#function, such as categorical cross entropy. Binary cross entropy will not work with more than two classes:\n",
        "model.compile(loss = 'categorical_crossentropy', optimizer='rmsprop',\n",
        "metrics=['accuracy'])\n",
        "# Training is then the same as before:\n",
        "history = model.fit(train_generator, epochs=25,\n",
        "validation_data = validation_generator, verbose = 1)\n",
        "\n",
        "# Your code for testing predictions will also need to change somewhat. There are now\n",
        "#three output neurons, and they will output a value close to 1 for the predicted class,\n",
        "#which will ensure that all three predictions will add up to 1. For example, if the model\n",
        "#sees something it’s really unsure about it might output .4, .4, .2, but if it sees something\n",
        "#it’s quite sure about you might get .98, .01, .01.\n",
        "#Note also that when using the ImageDataGenerator, the classes are loaded in alphabetical\n",
        "#order—so while you might expect the output neurons to be in the order of the\n",
        "#name of the game, the order in fact will be Paper, Rock, Scissors.\n",
        "\n",
        "# Code to try out predictions in a Colab notebook will look like this. It’s very similar to\n",
        "# what you saw earlier:\n",
        " import numpy as np\n",
        "from google.colab import files\n",
        " from keras.preprocessing import image\n",
        "uploaded = files.upload()\n",
        "     for fn in uploaded.keys():\n",
        "# predicting images\n",
        "path = fn\n",
        "img = image.load_img(path, target_size=(150, 150))\n",
        "x = image.img_to_array(img)\n",
        "x = np.expand_dims(x, axis=0)\n",
        "images = np.vstack([x])\n",
        "classes = model.predict(images, batch_size=10)\n",
        "print(fn)\n",
        "print(classes)\n",
        "\n",
        "#You can see from the filenames what the images were. Paper1.png ended up as [1, 0,\n",
        "#0], meaning the first neuron was activated and the others weren’t. Similarly,\n",
        "#Rock1.png ended up as [0, 1, 0], activating the second neuron, and Scissors2.png\n",
        "#was [0, 0, 1]. Remember that the neurons are in alphabetical order by label!\n",
        "#Some images that you can use to test the dataset are available to download. Alternatively,\n",
        "#of course, you can try your own. Note that the training images are all done against a plain white background, though, so there may be some confusion if there is\n",
        "#a lot of detail in the background of the photos you take.\n",
        "\n",
        "\n"
      ]
    }
  ]
}