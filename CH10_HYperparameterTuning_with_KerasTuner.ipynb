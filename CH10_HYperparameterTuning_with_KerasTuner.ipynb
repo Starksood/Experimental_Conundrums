{
  "nbformat": 4,
  "nbformat_minor": 0,
  "metadata": {
    "colab": {
      "name": "CH10_HYperparameterTuning with KerasTuner.ipynb",
      "provenance": [],
      "authorship_tag": "ABX9TyOfDh2jLpbOw3YYkxkjGYjn",
      "include_colab_link": true
    },
    "kernelspec": {
      "name": "python3",
      "display_name": "Python 3"
    },
    "language_info": {
      "name": "python"
    }
  },
  "cells": [
    {
      "cell_type": "markdown",
      "metadata": {
        "id": "view-in-github",
        "colab_type": "text"
      },
      "source": [
        "<a href=\"https://colab.research.google.com/github/Starksood/Experimental_Conundrums/blob/main/CH10_HYperparameterTuning_with_KerasTuner.ipynb\" target=\"_parent\"><img src=\"https://colab.research.google.com/assets/colab-badge.svg\" alt=\"Open In Colab\"/></a>"
      ]
    },
    {
      "cell_type": "code",
      "execution_count": 1,
      "metadata": {
        "id": "7JqblZ3d1hKr"
      },
      "outputs": [],
      "source": [
        "try:\n",
        "  %tensorflow_version 2.x\n",
        "except Exception:\n",
        "  pass  "
      ]
    },
    {
      "cell_type": "code",
      "source": [
        "!pip install keras-tuner"
      ],
      "metadata": {
        "colab": {
          "base_uri": "https://localhost:8080/"
        },
        "id": "fdOJYyW6zkq6",
        "outputId": "daa19deb-e4b6-4ffa-b0a1-fd65986cf6d7"
      },
      "execution_count": 2,
      "outputs": [
        {
          "output_type": "stream",
          "name": "stdout",
          "text": [
            "Collecting keras-tuner\n",
            "  Downloading keras_tuner-1.1.0-py3-none-any.whl (98 kB)\n",
            "\u001b[?25l\r\u001b[K     |███▍                            | 10 kB 19.8 MB/s eta 0:00:01\r\u001b[K     |██████▊                         | 20 kB 23.8 MB/s eta 0:00:01\r\u001b[K     |██████████                      | 30 kB 11.2 MB/s eta 0:00:01\r\u001b[K     |█████████████▍                  | 40 kB 8.8 MB/s eta 0:00:01\r\u001b[K     |████████████████▊               | 51 kB 5.1 MB/s eta 0:00:01\r\u001b[K     |████████████████████            | 61 kB 5.3 MB/s eta 0:00:01\r\u001b[K     |███████████████████████▍        | 71 kB 5.4 MB/s eta 0:00:01\r\u001b[K     |██████████████████████████▊     | 81 kB 6.1 MB/s eta 0:00:01\r\u001b[K     |██████████████████████████████  | 92 kB 6.1 MB/s eta 0:00:01\r\u001b[K     |████████████████████████████████| 98 kB 3.6 MB/s \n",
            "\u001b[?25hRequirement already satisfied: tensorboard in /usr/local/lib/python3.7/dist-packages (from keras-tuner) (2.7.0)\n",
            "Requirement already satisfied: scipy in /usr/local/lib/python3.7/dist-packages (from keras-tuner) (1.4.1)\n",
            "Requirement already satisfied: ipython in /usr/local/lib/python3.7/dist-packages (from keras-tuner) (5.5.0)\n",
            "Collecting kt-legacy\n",
            "  Downloading kt_legacy-1.0.4-py3-none-any.whl (9.6 kB)\n",
            "Requirement already satisfied: requests in /usr/local/lib/python3.7/dist-packages (from keras-tuner) (2.23.0)\n",
            "Requirement already satisfied: numpy in /usr/local/lib/python3.7/dist-packages (from keras-tuner) (1.19.5)\n",
            "Requirement already satisfied: packaging in /usr/local/lib/python3.7/dist-packages (from keras-tuner) (21.3)\n",
            "Requirement already satisfied: setuptools>=18.5 in /usr/local/lib/python3.7/dist-packages (from ipython->keras-tuner) (57.4.0)\n",
            "Requirement already satisfied: pickleshare in /usr/local/lib/python3.7/dist-packages (from ipython->keras-tuner) (0.7.5)\n",
            "Requirement already satisfied: traitlets>=4.2 in /usr/local/lib/python3.7/dist-packages (from ipython->keras-tuner) (5.1.1)\n",
            "Requirement already satisfied: prompt-toolkit<2.0.0,>=1.0.4 in /usr/local/lib/python3.7/dist-packages (from ipython->keras-tuner) (1.0.18)\n",
            "Requirement already satisfied: pexpect in /usr/local/lib/python3.7/dist-packages (from ipython->keras-tuner) (4.8.0)\n",
            "Requirement already satisfied: simplegeneric>0.8 in /usr/local/lib/python3.7/dist-packages (from ipython->keras-tuner) (0.8.1)\n",
            "Requirement already satisfied: pygments in /usr/local/lib/python3.7/dist-packages (from ipython->keras-tuner) (2.6.1)\n",
            "Requirement already satisfied: decorator in /usr/local/lib/python3.7/dist-packages (from ipython->keras-tuner) (4.4.2)\n",
            "Requirement already satisfied: six>=1.9.0 in /usr/local/lib/python3.7/dist-packages (from prompt-toolkit<2.0.0,>=1.0.4->ipython->keras-tuner) (1.15.0)\n",
            "Requirement already satisfied: wcwidth in /usr/local/lib/python3.7/dist-packages (from prompt-toolkit<2.0.0,>=1.0.4->ipython->keras-tuner) (0.2.5)\n",
            "Requirement already satisfied: pyparsing!=3.0.5,>=2.0.2 in /usr/local/lib/python3.7/dist-packages (from packaging->keras-tuner) (3.0.6)\n",
            "Requirement already satisfied: ptyprocess>=0.5 in /usr/local/lib/python3.7/dist-packages (from pexpect->ipython->keras-tuner) (0.7.0)\n",
            "Requirement already satisfied: chardet<4,>=3.0.2 in /usr/local/lib/python3.7/dist-packages (from requests->keras-tuner) (3.0.4)\n",
            "Requirement already satisfied: certifi>=2017.4.17 in /usr/local/lib/python3.7/dist-packages (from requests->keras-tuner) (2021.10.8)\n",
            "Requirement already satisfied: urllib3!=1.25.0,!=1.25.1,<1.26,>=1.21.1 in /usr/local/lib/python3.7/dist-packages (from requests->keras-tuner) (1.24.3)\n",
            "Requirement already satisfied: idna<3,>=2.5 in /usr/local/lib/python3.7/dist-packages (from requests->keras-tuner) (2.10)\n",
            "Requirement already satisfied: markdown>=2.6.8 in /usr/local/lib/python3.7/dist-packages (from tensorboard->keras-tuner) (3.3.6)\n",
            "Requirement already satisfied: grpcio>=1.24.3 in /usr/local/lib/python3.7/dist-packages (from tensorboard->keras-tuner) (1.42.0)\n",
            "Requirement already satisfied: protobuf>=3.6.0 in /usr/local/lib/python3.7/dist-packages (from tensorboard->keras-tuner) (3.17.3)\n",
            "Requirement already satisfied: tensorboard-plugin-wit>=1.6.0 in /usr/local/lib/python3.7/dist-packages (from tensorboard->keras-tuner) (1.8.0)\n",
            "Requirement already satisfied: wheel>=0.26 in /usr/local/lib/python3.7/dist-packages (from tensorboard->keras-tuner) (0.37.0)\n",
            "Requirement already satisfied: tensorboard-data-server<0.7.0,>=0.6.0 in /usr/local/lib/python3.7/dist-packages (from tensorboard->keras-tuner) (0.6.1)\n",
            "Requirement already satisfied: absl-py>=0.4 in /usr/local/lib/python3.7/dist-packages (from tensorboard->keras-tuner) (0.12.0)\n",
            "Requirement already satisfied: google-auth-oauthlib<0.5,>=0.4.1 in /usr/local/lib/python3.7/dist-packages (from tensorboard->keras-tuner) (0.4.6)\n",
            "Requirement already satisfied: werkzeug>=0.11.15 in /usr/local/lib/python3.7/dist-packages (from tensorboard->keras-tuner) (1.0.1)\n",
            "Requirement already satisfied: google-auth<3,>=1.6.3 in /usr/local/lib/python3.7/dist-packages (from tensorboard->keras-tuner) (1.35.0)\n",
            "Requirement already satisfied: cachetools<5.0,>=2.0.0 in /usr/local/lib/python3.7/dist-packages (from google-auth<3,>=1.6.3->tensorboard->keras-tuner) (4.2.4)\n",
            "Requirement already satisfied: pyasn1-modules>=0.2.1 in /usr/local/lib/python3.7/dist-packages (from google-auth<3,>=1.6.3->tensorboard->keras-tuner) (0.2.8)\n",
            "Requirement already satisfied: rsa<5,>=3.1.4 in /usr/local/lib/python3.7/dist-packages (from google-auth<3,>=1.6.3->tensorboard->keras-tuner) (4.8)\n",
            "Requirement already satisfied: requests-oauthlib>=0.7.0 in /usr/local/lib/python3.7/dist-packages (from google-auth-oauthlib<0.5,>=0.4.1->tensorboard->keras-tuner) (1.3.0)\n",
            "Requirement already satisfied: importlib-metadata>=4.4 in /usr/local/lib/python3.7/dist-packages (from markdown>=2.6.8->tensorboard->keras-tuner) (4.8.2)\n",
            "Requirement already satisfied: typing-extensions>=3.6.4 in /usr/local/lib/python3.7/dist-packages (from importlib-metadata>=4.4->markdown>=2.6.8->tensorboard->keras-tuner) (3.10.0.2)\n",
            "Requirement already satisfied: zipp>=0.5 in /usr/local/lib/python3.7/dist-packages (from importlib-metadata>=4.4->markdown>=2.6.8->tensorboard->keras-tuner) (3.6.0)\n",
            "Requirement already satisfied: pyasn1<0.5.0,>=0.4.6 in /usr/local/lib/python3.7/dist-packages (from pyasn1-modules>=0.2.1->google-auth<3,>=1.6.3->tensorboard->keras-tuner) (0.4.8)\n",
            "Requirement already satisfied: oauthlib>=3.0.0 in /usr/local/lib/python3.7/dist-packages (from requests-oauthlib>=0.7.0->google-auth-oauthlib<0.5,>=0.4.1->tensorboard->keras-tuner) (3.1.1)\n",
            "Installing collected packages: kt-legacy, keras-tuner\n",
            "Successfully installed keras-tuner-1.1.0 kt-legacy-1.0.4\n"
          ]
        }
      ]
    },
    {
      "cell_type": "code",
      "source": [
        "import tensorflow as tf\n",
        "import numpy as np\n",
        "import matplotlib.pyplot as plt\n",
        "print(tf.version)"
      ],
      "metadata": {
        "colab": {
          "base_uri": "https://localhost:8080/"
        },
        "id": "BwwoCZ8Qzpqz",
        "outputId": "0a70ec12-65c3-41e8-f5cf-72905eb5e419"
      },
      "execution_count": 3,
      "outputs": [
        {
          "output_type": "stream",
          "name": "stdout",
          "text": [
            "<module 'tensorflow._api.v2.version' from '/usr/local/lib/python3.7/dist-packages/tensorflow/_api/v2/version/__init__.py'>\n"
          ]
        }
      ]
    },
    {
      "cell_type": "code",
      "source": [
        "from kerastuner.tuners import randomsearch"
      ],
      "metadata": {
        "id": "zsul8AJsz-vg"
      },
      "execution_count": 11,
      "outputs": []
    },
    {
      "cell_type": "code",
      "source": [
        "def plot_series(time, series, format=\"-\", start=0, end=None):\n",
        "    plt.plot(time[start:end], series[start:end], format)\n",
        "    plt.xlabel(\"Time\")\n",
        "    plt.ylabel(\"Value\")\n",
        "    plt.grid(True)\n",
        "\n",
        "def trend(time, slope=0):\n",
        "    return slope * time\n",
        "\n",
        "def seasonal_pattern(season_time):\n",
        "    \"\"\"Just an arbitrary pattern, you can change it if you wish\"\"\"\n",
        "    return np.where(season_time < 0.4,\n",
        "                    np.cos(season_time * 2 * np.pi),\n",
        "                    1 / np.exp(3 * season_time))\n",
        "\n",
        "def seasonality(time, period, amplitude=1, phase=0):\n",
        "    \"\"\"Repeats the same pattern at each period\"\"\"\n",
        "    season_time = ((time + phase) % period) / period\n",
        "    return amplitude * seasonal_pattern(season_time)\n",
        "\n",
        "def noise(time, noise_level=1, seed=None):\n",
        "    rnd = np.random.RandomState(seed)\n",
        "    return rnd.randn(len(time)) * noise_level\n",
        "\n",
        "time = np.arange(4 * 365 + 1, dtype=\"float32\")\n",
        "baseline = 10\n",
        "series = trend(time, 0.1)  \n",
        "baseline = 10\n",
        "amplitude = 20\n",
        "slope = 0.09\n",
        "noise_level = 5\n",
        "\n",
        "# Create the series\n",
        "series = baseline + trend(time, slope) + seasonality(time, period=365, amplitude=amplitude)\n",
        "# Update with noise\n",
        "series += noise(time, noise_level, seed=42)\n",
        "\n",
        "split_time = 1000\n",
        "time_train = time[:split_time]\n",
        "x_train = series[:split_time]\n",
        "time_valid = time[split_time:]\n",
        "x_valid = series[split_time:]\n",
        "\n",
        "window_size = 20\n",
        "batch_size = 32\n",
        "shuffle_buffer_size = 1000\n"
      ],
      "metadata": {
        "id": "4UrFe2Jg0dSy"
      },
      "execution_count": 6,
      "outputs": []
    },
    {
      "cell_type": "code",
      "source": [
        "plt.figure(figsize=(10, 6))\n",
        "plot_series(time_valid, x_valid)"
      ],
      "metadata": {
        "colab": {
          "base_uri": "https://localhost:8080/",
          "height": 388
        },
        "id": "qeu0k7bt0h0z",
        "outputId": "65f73e87-7ef1-4ec6-a6dd-5a79a686bc86"
      },
      "execution_count": 7,
      "outputs": [
        {
          "output_type": "display_data",
          "data": {
            "image/png": "[encoded data removed]",
            "text/plain": [
              "<Figure size 720x432 with 1 Axes>"
            ]
          },
          "metadata": {
            "needs_background": "light"
          }
        }
      ]
    },
    {
      "cell_type": "code",
      "source": [
        "def windowed_dataset(series, window_size, batch_size, shuffle_buffer):\n",
        "  dataset = tf.data.Dataset.from_tensor_slices(series)\n",
        "  dataset = dataset.window(window_size + 1, shift=1, drop_remainder=True)\n",
        "  dataset = dataset.flat_map(lambda window: window.batch(window_size + 1))\n",
        "  dataset = dataset.shuffle(shuffle_buffer).map(lambda window: (window[:-1], window[-1]))\n",
        "  dataset = dataset.batch(batch_size).prefetch(1)\n",
        "  return dataset\n"
      ],
      "metadata": {
        "id": "2xHF685k0mva"
      },
      "execution_count": 8,
      "outputs": []
    },
    {
      "cell_type": "code",
      "source": [
        "dataset = windowed_dataset(x_train, window_size, batch_size, shuffle_buffer_size)\n",
        "\n",
        "def build_model(hp):\n",
        "  model = tf.keras.models.Sequential()\n",
        "  model.add(tf.keras.layers.Dense(units=hp.Int('units', min_value=10, max_value=30, step=2), activation='relu', input_shape=[window_size]))\n",
        "  model.add(tf.keras.layers.Dense(10, activation='relu'))\n",
        "  model.add(tf.keras.layers.Dense(1))\n",
        "\n",
        "  model.compile(loss=\"mse\", optimizer=tf.keras.optimizers.SGD(hp.Choice('momentum', values=[.9, .7, .5, .3]), lr=1e-5))\n",
        "  return model\n",
        "\n",
        "tuner = RandomSearch(build_model, objective='loss', max_trials=50, executions_per_trial=3, directory='my_dir', project_name='hello')\n",
        "\n",
        "tuner.search_space_summary()\n",
        "\n",
        "tuner.search(dataset, epochs=100, verbose=0)"
      ],
      "metadata": {
        "colab": {
          "base_uri": "https://localhost:8080/",
          "height": 241
        },
        "id": "8ubDb2UW0ppa",
        "outputId": "7939a064-b6e3-47be-b46a-74c01731351c"
      },
      "execution_count": 13,
      "outputs": [
        {
          "output_type": "error",
          "ename": "NameError",
          "evalue": "ignored",
          "traceback": [
            "\u001b[0;31m---------------------------------------------------------------------------\u001b[0m",
            "\u001b[0;31mNameError\u001b[0m                                 Traceback (most recent call last)",
            "\u001b[0;32m<ipython-input-13-5b447b08470c>\u001b[0m in \u001b[0;36m<module>\u001b[0;34m()\u001b[0m\n\u001b[1;32m     10\u001b[0m   \u001b[0;32mreturn\u001b[0m \u001b[0mmodel\u001b[0m\u001b[0;34m\u001b[0m\u001b[0;34m\u001b[0m\u001b[0m\n\u001b[1;32m     11\u001b[0m \u001b[0;34m\u001b[0m\u001b[0m\n\u001b[0;32m---> 12\u001b[0;31m \u001b[0mtuner\u001b[0m \u001b[0;34m=\u001b[0m \u001b[0mRandomSearch\u001b[0m\u001b[0;34m(\u001b[0m\u001b[0mbuild_model\u001b[0m\u001b[0;34m,\u001b[0m \u001b[0mobjective\u001b[0m\u001b[0;34m=\u001b[0m\u001b[0;34m'loss'\u001b[0m\u001b[0;34m,\u001b[0m \u001b[0mmax_trials\u001b[0m\u001b[0;34m=\u001b[0m\u001b[0;36m50\u001b[0m\u001b[0;34m,\u001b[0m \u001b[0mexecutions_per_trial\u001b[0m\u001b[0;34m=\u001b[0m\u001b[0;36m3\u001b[0m\u001b[0;34m,\u001b[0m \u001b[0mdirectory\u001b[0m\u001b[0;34m=\u001b[0m\u001b[0;34m'my_dir'\u001b[0m\u001b[0;34m,\u001b[0m \u001b[0mproject_name\u001b[0m\u001b[0;34m=\u001b[0m\u001b[0;34m'hello'\u001b[0m\u001b[0;34m)\u001b[0m\u001b[0;34m\u001b[0m\u001b[0;34m\u001b[0m\u001b[0m\n\u001b[0m\u001b[1;32m     13\u001b[0m \u001b[0;34m\u001b[0m\u001b[0m\n\u001b[1;32m     14\u001b[0m \u001b[0mtuner\u001b[0m\u001b[0;34m.\u001b[0m\u001b[0msearch_space_summary\u001b[0m\u001b[0;34m(\u001b[0m\u001b[0;34m)\u001b[0m\u001b[0;34m\u001b[0m\u001b[0;34m\u001b[0m\u001b[0m\n",
            "\u001b[0;31mNameError\u001b[0m: name 'RandomSearch' is not defined"
          ]
        }
      ]
    },
    {
      "cell_type": "code",
      "source": [
        "#models = tuner.get_best_models(num_models=4)\n",
        "tuner.results_summary()\n",
        "#print(models)\n"
      ],
      "metadata": {
        "colab": {
          "base_uri": "https://localhost:8080/",
          "height": 191
        },
        "id": "aX-WSDLR090g",
        "outputId": "e81dfa40-4f94-4401-bd56-52d0613c74c0"
      },
      "execution_count": 15,
      "outputs": [
        {
          "output_type": "error",
          "ename": "NameError",
          "evalue": "ignored",
          "traceback": [
            "\u001b[0;31m---------------------------------------------------------------------------\u001b[0m",
            "\u001b[0;31mNameError\u001b[0m                                 Traceback (most recent call last)",
            "\u001b[0;32m<ipython-input-15-ff74aced5de3>\u001b[0m in \u001b[0;36m<module>\u001b[0;34m()\u001b[0m\n\u001b[1;32m      1\u001b[0m \u001b[0;31m#models = tuner.get_best_models(num_models=4)\u001b[0m\u001b[0;34m\u001b[0m\u001b[0;34m\u001b[0m\u001b[0;34m\u001b[0m\u001b[0m\n\u001b[0;32m----> 2\u001b[0;31m \u001b[0mtuner\u001b[0m\u001b[0;34m.\u001b[0m\u001b[0mresults_summary\u001b[0m\u001b[0;34m(\u001b[0m\u001b[0;34m)\u001b[0m\u001b[0;34m\u001b[0m\u001b[0;34m\u001b[0m\u001b[0m\n\u001b[0m\u001b[1;32m      3\u001b[0m \u001b[0;31m#print(models)\u001b[0m\u001b[0;34m\u001b[0m\u001b[0;34m\u001b[0m\u001b[0;34m\u001b[0m\u001b[0m\n",
            "\u001b[0;31mNameError\u001b[0m: name 'tuner' is not defined"
          ]
        }
      ]
    },
    {
      "cell_type": "code",
      "source": [
        "dataset = windowed_dataset(x_train, window_size, batch_size, shuffle_buffer_size)\n",
        "\n",
        "\n",
        "model = tf.keras.models.Sequential([\n",
        "    tf.keras.layers.Dense(28, input_shape=[window_size], activation=\"relu\"), \n",
        "    tf.keras.layers.Dense(10, activation=\"relu\"), \n",
        "    tf.keras.layers.Dense(1)\n",
        "])\n",
        "\n",
        "\n",
        "optimizer = tf.keras.optimizers.SGD(lr=1e-5, momentum=0.5)\n",
        "model.compile(loss=\"mse\", optimizer=optimizer)\n",
        "history = model.fit(dataset, epochs=100,  verbose=1)"
      ],
      "metadata": {
        "colab": {
          "base_uri": "https://localhost:8080/"
        },
        "id": "Ov4ZXlBL1AuE",
        "outputId": "46332a2b-07a9-476d-f32c-af7a81675cf5"
      },
      "execution_count": 16,
      "outputs": [
        {
          "output_type": "stream",
          "name": "stderr",
          "text": [
            "/usr/local/lib/python3.7/dist-packages/keras/optimizer_v2/gradient_descent.py:102: UserWarning: The `lr` argument is deprecated, use `learning_rate` instead.\n",
            "  super(SGD, self).__init__(name, **kwargs)\n"
          ]
        },
        {
          "output_type": "stream",
          "name": "stdout",
          "text": [
            "Epoch 1/100\n",
            "31/31 [==============================] - 1s 4ms/step - loss: 191.8899\n",
            "Epoch 2/100\n",
            "31/31 [==============================] - 0s 2ms/step - loss: 44.7678\n",
            "Epoch 3/100\n",
            "31/31 [==============================] - 0s 2ms/step - loss: 42.6772\n",
            "Epoch 4/100\n",
            "31/31 [==============================] - 0s 2ms/step - loss: 41.7504\n",
            "Epoch 5/100\n",
            "31/31 [==============================] - 0s 3ms/step - loss: 42.1314\n",
            "Epoch 6/100\n",
            "31/31 [==============================] - 0s 3ms/step - loss: 41.0475\n",
            "Epoch 7/100\n",
            "31/31 [==============================] - 0s 3ms/step - loss: 41.1008\n",
            "Epoch 8/100\n",
            "31/31 [==============================] - 0s 3ms/step - loss: 40.5559\n",
            "Epoch 9/100\n",
            "31/31 [==============================] - 0s 2ms/step - loss: 39.3094\n",
            "Epoch 10/100\n",
            "31/31 [==============================] - 0s 2ms/step - loss: 40.3120\n",
            "Epoch 11/100\n",
            "31/31 [==============================] - 0s 2ms/step - loss: 38.7803\n",
            "Epoch 12/100\n",
            "31/31 [==============================] - 0s 2ms/step - loss: 38.9116\n",
            "Epoch 13/100\n",
            "31/31 [==============================] - 0s 3ms/step - loss: 40.2654\n",
            "Epoch 14/100\n",
            "31/31 [==============================] - 0s 2ms/step - loss: 38.7664\n",
            "Epoch 15/100\n",
            "31/31 [==============================] - 0s 2ms/step - loss: 38.5817\n",
            "Epoch 16/100\n",
            "31/31 [==============================] - 0s 3ms/step - loss: 38.3520\n",
            "Epoch 17/100\n",
            "31/31 [==============================] - 0s 2ms/step - loss: 38.5317\n",
            "Epoch 18/100\n",
            "31/31 [==============================] - 0s 3ms/step - loss: 37.7458\n",
            "Epoch 19/100\n",
            "31/31 [==============================] - 0s 2ms/step - loss: 38.0741\n",
            "Epoch 20/100\n",
            "31/31 [==============================] - 0s 2ms/step - loss: 37.8615\n",
            "Epoch 21/100\n",
            "31/31 [==============================] - 0s 2ms/step - loss: 38.1034\n",
            "Epoch 22/100\n",
            "31/31 [==============================] - 0s 2ms/step - loss: 37.2930\n",
            "Epoch 23/100\n",
            "31/31 [==============================] - 0s 2ms/step - loss: 37.0937\n",
            "Epoch 24/100\n",
            "31/31 [==============================] - 0s 2ms/step - loss: 37.5278\n",
            "Epoch 25/100\n",
            "31/31 [==============================] - 0s 2ms/step - loss: 36.8805\n",
            "Epoch 26/100\n",
            "31/31 [==============================] - 0s 2ms/step - loss: 36.5053\n",
            "Epoch 27/100\n",
            "31/31 [==============================] - 0s 2ms/step - loss: 36.8363\n",
            "Epoch 28/100\n",
            "31/31 [==============================] - 0s 2ms/step - loss: 36.9116\n",
            "Epoch 29/100\n",
            "31/31 [==============================] - 0s 3ms/step - loss: 37.5101\n",
            "Epoch 30/100\n",
            "31/31 [==============================] - 0s 2ms/step - loss: 36.6328\n",
            "Epoch 31/100\n",
            "31/31 [==============================] - 0s 2ms/step - loss: 36.4347\n",
            "Epoch 32/100\n",
            "31/31 [==============================] - 0s 3ms/step - loss: 36.0246\n",
            "Epoch 33/100\n",
            "31/31 [==============================] - 0s 3ms/step - loss: 36.4044\n",
            "Epoch 34/100\n",
            "31/31 [==============================] - 0s 3ms/step - loss: 35.8433\n",
            "Epoch 35/100\n",
            "31/31 [==============================] - 0s 2ms/step - loss: 36.3773\n",
            "Epoch 36/100\n",
            "31/31 [==============================] - 0s 2ms/step - loss: 36.4359\n",
            "Epoch 37/100\n",
            "31/31 [==============================] - 0s 3ms/step - loss: 38.4540\n",
            "Epoch 38/100\n",
            "31/31 [==============================] - 0s 2ms/step - loss: 36.3005\n",
            "Epoch 39/100\n",
            "31/31 [==============================] - 0s 2ms/step - loss: 35.4819\n",
            "Epoch 40/100\n",
            "31/31 [==============================] - 0s 2ms/step - loss: 35.8946\n",
            "Epoch 41/100\n",
            "31/31 [==============================] - 0s 2ms/step - loss: 35.8746\n",
            "Epoch 42/100\n",
            "31/31 [==============================] - 0s 4ms/step - loss: 35.1681\n",
            "Epoch 43/100\n",
            "31/31 [==============================] - 0s 3ms/step - loss: 35.6194\n",
            "Epoch 44/100\n",
            "31/31 [==============================] - 0s 6ms/step - loss: 35.6275\n",
            "Epoch 45/100\n",
            "31/31 [==============================] - 0s 2ms/step - loss: 36.3671\n",
            "Epoch 46/100\n",
            "31/31 [==============================] - 0s 3ms/step - loss: 35.9375\n",
            "Epoch 47/100\n",
            "31/31 [==============================] - 0s 3ms/step - loss: 35.6236\n",
            "Epoch 48/100\n",
            "31/31 [==============================] - 0s 3ms/step - loss: 34.6628\n",
            "Epoch 49/100\n",
            "31/31 [==============================] - 0s 3ms/step - loss: 35.3814\n",
            "Epoch 50/100\n",
            "31/31 [==============================] - 0s 2ms/step - loss: 34.7899\n",
            "Epoch 51/100\n",
            "31/31 [==============================] - 0s 2ms/step - loss: 35.1418\n",
            "Epoch 52/100\n",
            "31/31 [==============================] - 0s 3ms/step - loss: 35.5596\n",
            "Epoch 53/100\n",
            "31/31 [==============================] - 0s 2ms/step - loss: 35.8348\n",
            "Epoch 54/100\n",
            "31/31 [==============================] - 0s 3ms/step - loss: 35.6339\n",
            "Epoch 55/100\n",
            "31/31 [==============================] - 0s 4ms/step - loss: 35.2546\n",
            "Epoch 56/100\n",
            "31/31 [==============================] - 0s 5ms/step - loss: 35.0939\n",
            "Epoch 57/100\n",
            "31/31 [==============================] - 0s 3ms/step - loss: 34.7252\n",
            "Epoch 58/100\n",
            "31/31 [==============================] - 0s 5ms/step - loss: 36.1469\n",
            "Epoch 59/100\n",
            "31/31 [==============================] - 0s 3ms/step - loss: 35.6602\n",
            "Epoch 60/100\n",
            "31/31 [==============================] - 0s 3ms/step - loss: 34.6677\n",
            "Epoch 61/100\n",
            "31/31 [==============================] - 0s 2ms/step - loss: 36.0288\n",
            "Epoch 62/100\n",
            "31/31 [==============================] - 0s 3ms/step - loss: 34.4120\n",
            "Epoch 63/100\n",
            "31/31 [==============================] - 0s 2ms/step - loss: 34.4274\n",
            "Epoch 64/100\n",
            "31/31 [==============================] - 0s 3ms/step - loss: 34.5702\n",
            "Epoch 65/100\n",
            "31/31 [==============================] - 0s 3ms/step - loss: 34.7405\n",
            "Epoch 66/100\n",
            "31/31 [==============================] - 0s 3ms/step - loss: 34.8197\n",
            "Epoch 67/100\n",
            "31/31 [==============================] - 0s 3ms/step - loss: 35.2721\n",
            "Epoch 68/100\n",
            "31/31 [==============================] - 0s 3ms/step - loss: 35.2788\n",
            "Epoch 69/100\n",
            "31/31 [==============================] - 0s 3ms/step - loss: 35.0935\n",
            "Epoch 70/100\n",
            "31/31 [==============================] - 0s 2ms/step - loss: 35.7981\n",
            "Epoch 71/100\n",
            "31/31 [==============================] - 0s 3ms/step - loss: 34.7827\n",
            "Epoch 72/100\n",
            "31/31 [==============================] - 0s 2ms/step - loss: 34.6750\n",
            "Epoch 73/100\n",
            "31/31 [==============================] - 0s 2ms/step - loss: 35.3417\n",
            "Epoch 74/100\n",
            "31/31 [==============================] - 0s 2ms/step - loss: 34.0645\n",
            "Epoch 75/100\n",
            "31/31 [==============================] - 0s 2ms/step - loss: 34.2541\n",
            "Epoch 76/100\n",
            "31/31 [==============================] - 0s 2ms/step - loss: 34.3107\n",
            "Epoch 77/100\n",
            "31/31 [==============================] - 0s 2ms/step - loss: 35.2405\n",
            "Epoch 78/100\n",
            "31/31 [==============================] - 0s 3ms/step - loss: 35.5677\n",
            "Epoch 79/100\n",
            "31/31 [==============================] - 0s 2ms/step - loss: 34.9920\n",
            "Epoch 80/100\n",
            "31/31 [==============================] - 0s 2ms/step - loss: 34.4203\n",
            "Epoch 81/100\n",
            "31/31 [==============================] - 0s 2ms/step - loss: 34.2679\n",
            "Epoch 82/100\n",
            "31/31 [==============================] - 0s 2ms/step - loss: 33.8569\n",
            "Epoch 83/100\n",
            "31/31 [==============================] - 0s 2ms/step - loss: 35.2782\n",
            "Epoch 84/100\n",
            "31/31 [==============================] - 0s 2ms/step - loss: 34.4770\n",
            "Epoch 85/100\n",
            "31/31 [==============================] - 0s 2ms/step - loss: 34.0009\n",
            "Epoch 86/100\n",
            "31/31 [==============================] - 0s 2ms/step - loss: 34.8911\n",
            "Epoch 87/100\n",
            "31/31 [==============================] - 0s 2ms/step - loss: 34.3694\n",
            "Epoch 88/100\n",
            "31/31 [==============================] - 0s 2ms/step - loss: 34.7915\n",
            "Epoch 89/100\n",
            "31/31 [==============================] - 0s 3ms/step - loss: 33.8975\n",
            "Epoch 90/100\n",
            "31/31 [==============================] - 0s 2ms/step - loss: 34.8050\n",
            "Epoch 91/100\n",
            "31/31 [==============================] - 0s 2ms/step - loss: 33.9660\n",
            "Epoch 92/100\n",
            "31/31 [==============================] - 0s 2ms/step - loss: 33.7929\n",
            "Epoch 93/100\n",
            "31/31 [==============================] - 0s 2ms/step - loss: 33.5015\n",
            "Epoch 94/100\n",
            "31/31 [==============================] - 0s 2ms/step - loss: 34.8255\n",
            "Epoch 95/100\n",
            "31/31 [==============================] - 0s 2ms/step - loss: 35.7890\n",
            "Epoch 96/100\n",
            "31/31 [==============================] - 0s 2ms/step - loss: 34.4846\n",
            "Epoch 97/100\n",
            "31/31 [==============================] - 0s 2ms/step - loss: 35.0891\n",
            "Epoch 98/100\n",
            "31/31 [==============================] - 0s 2ms/step - loss: 34.6987\n",
            "Epoch 99/100\n",
            "31/31 [==============================] - 0s 2ms/step - loss: 34.2889\n",
            "Epoch 100/100\n",
            "31/31 [==============================] - 0s 3ms/step - loss: 33.5220\n"
          ]
        }
      ]
    },
    {
      "cell_type": "code",
      "source": [
        "forecast = []\n",
        "for time in range(len(series) - window_size):\n",
        "  forecast.append(model.predict(series[time:time + window_size][np.newaxis]))\n",
        "\n",
        "forecast = forecast[split_time-window_size:]\n",
        "results = np.array(forecast)[:, 0, 0]\n",
        "\n",
        "\n",
        "plt.figure(figsize=(10, 6))\n",
        "\n",
        "plot_series(time_valid, x_valid)\n",
        "plot_series(time_valid, results)"
      ],
      "metadata": {
        "colab": {
          "base_uri": "https://localhost:8080/",
          "height": 224
        },
        "id": "XGjHNpc_1Ev8",
        "outputId": "841edfb6-6f3d-479f-a80c-710f2bb9cc9f"
      },
      "execution_count": 14,
      "outputs": [
        {
          "output_type": "error",
          "ename": "NameError",
          "evalue": "ignored",
          "traceback": [
            "\u001b[0;31m---------------------------------------------------------------------------\u001b[0m",
            "\u001b[0;31mNameError\u001b[0m                                 Traceback (most recent call last)",
            "\u001b[0;32m<ipython-input-14-89977b6245ae>\u001b[0m in \u001b[0;36m<module>\u001b[0;34m()\u001b[0m\n\u001b[1;32m      1\u001b[0m \u001b[0mforecast\u001b[0m \u001b[0;34m=\u001b[0m \u001b[0;34m[\u001b[0m\u001b[0;34m]\u001b[0m\u001b[0;34m\u001b[0m\u001b[0;34m\u001b[0m\u001b[0m\n\u001b[1;32m      2\u001b[0m \u001b[0;32mfor\u001b[0m \u001b[0mtime\u001b[0m \u001b[0;32min\u001b[0m \u001b[0mrange\u001b[0m\u001b[0;34m(\u001b[0m\u001b[0mlen\u001b[0m\u001b[0;34m(\u001b[0m\u001b[0mseries\u001b[0m\u001b[0;34m)\u001b[0m \u001b[0;34m-\u001b[0m \u001b[0mwindow_size\u001b[0m\u001b[0;34m)\u001b[0m\u001b[0;34m:\u001b[0m\u001b[0;34m\u001b[0m\u001b[0;34m\u001b[0m\u001b[0m\n\u001b[0;32m----> 3\u001b[0;31m   \u001b[0mforecast\u001b[0m\u001b[0;34m.\u001b[0m\u001b[0mappend\u001b[0m\u001b[0;34m(\u001b[0m\u001b[0mmodel\u001b[0m\u001b[0;34m.\u001b[0m\u001b[0mpredict\u001b[0m\u001b[0;34m(\u001b[0m\u001b[0mseries\u001b[0m\u001b[0;34m[\u001b[0m\u001b[0mtime\u001b[0m\u001b[0;34m:\u001b[0m\u001b[0mtime\u001b[0m \u001b[0;34m+\u001b[0m \u001b[0mwindow_size\u001b[0m\u001b[0;34m]\u001b[0m\u001b[0;34m[\u001b[0m\u001b[0mnp\u001b[0m\u001b[0;34m.\u001b[0m\u001b[0mnewaxis\u001b[0m\u001b[0;34m]\u001b[0m\u001b[0;34m)\u001b[0m\u001b[0;34m)\u001b[0m\u001b[0;34m\u001b[0m\u001b[0;34m\u001b[0m\u001b[0m\n\u001b[0m\u001b[1;32m      4\u001b[0m \u001b[0;34m\u001b[0m\u001b[0m\n\u001b[1;32m      5\u001b[0m \u001b[0mforecast\u001b[0m \u001b[0;34m=\u001b[0m \u001b[0mforecast\u001b[0m\u001b[0;34m[\u001b[0m\u001b[0msplit_time\u001b[0m\u001b[0;34m-\u001b[0m\u001b[0mwindow_size\u001b[0m\u001b[0;34m:\u001b[0m\u001b[0;34m]\u001b[0m\u001b[0;34m\u001b[0m\u001b[0;34m\u001b[0m\u001b[0m\n",
            "\u001b[0;31mNameError\u001b[0m: name 'model' is not defined"
          ]
        }
      ]
    },
    {
      "cell_type": "code",
      "source": [
        "tf.keras.metrics.mean_absolute_error(x_valid, results).numpy()"
      ],
      "metadata": {
        "colab": {
          "base_uri": "https://localhost:8080/",
          "height": 158
        },
        "id": "KjDCQKE81LkD",
        "outputId": "d5d3243c-f641-45d9-d9ef-022b847f29cb"
      },
      "execution_count": 17,
      "outputs": [
        {
          "output_type": "error",
          "ename": "NameError",
          "evalue": "ignored",
          "traceback": [
            "\u001b[0;31m---------------------------------------------------------------------------\u001b[0m",
            "\u001b[0;31mNameError\u001b[0m                                 Traceback (most recent call last)",
            "\u001b[0;32m<ipython-input-17-c78dd922c50f>\u001b[0m in \u001b[0;36m<module>\u001b[0;34m()\u001b[0m\n\u001b[0;32m----> 1\u001b[0;31m \u001b[0mtf\u001b[0m\u001b[0;34m.\u001b[0m\u001b[0mkeras\u001b[0m\u001b[0;34m.\u001b[0m\u001b[0mmetrics\u001b[0m\u001b[0;34m.\u001b[0m\u001b[0mmean_absolute_error\u001b[0m\u001b[0;34m(\u001b[0m\u001b[0mx_valid\u001b[0m\u001b[0;34m,\u001b[0m \u001b[0mresults\u001b[0m\u001b[0;34m)\u001b[0m\u001b[0;34m.\u001b[0m\u001b[0mnumpy\u001b[0m\u001b[0;34m(\u001b[0m\u001b[0;34m)\u001b[0m\u001b[0;34m\u001b[0m\u001b[0;34m\u001b[0m\u001b[0m\n\u001b[0m",
            "\u001b[0;31mNameError\u001b[0m: name 'results' is not defined"
          ]
        }
      ]
    }
  ]
}