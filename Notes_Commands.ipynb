{
  "nbformat": 4,
  "nbformat_minor": 0,
  "metadata": {
    "colab": {
      "name": "Notes_Commands.ipynb",
      "provenance": [],
      "collapsed_sections": [],
      "authorship_tag": "ABX9TyPSKiCV3m+asZBOgh8JrQ1+",
      "include_colab_link": true
    },
    "kernelspec": {
      "name": "python3",
      "display_name": "Python 3"
    },
    "language_info": {
      "name": "python"
    }
  },
  "cells": [
    {
      "cell_type": "markdown",
      "metadata": {
        "id": "view-in-github",
        "colab_type": "text"
      },
      "source": [
        "<a href=\"https://colab.research.google.com/github/Starksood/Experimental_Conundrums/blob/main/Notes_Commands.ipynb\" target=\"_parent\"><img src=\"https://colab.research.google.com/assets/colab-badge.svg\" alt=\"Open In Colab\"/></a>"
      ]
    },
    {
      "cell_type": "code",
      "source": [
        "#activation\n",
        "IS the activation function. \n",
        "relu means to effectively reject negative values coming out of the layer"
      ],
      "metadata": {
        "id": "hxXOOv2l5OWS"
      },
      "execution_count": null,
      "outputs": []
    },
    {
      "cell_type": "code",
      "source": [
        "#adam \n",
        "Faster and more optimized than SGD"
      ],
      "metadata": {
        "id": "9oilA0KNtpRQ"
      },
      "execution_count": null,
      "outputs": []
    },
    {
      "cell_type": "code",
      "source": [
        "#callbacks\n",
        "class myCallback(tf.keras.callbacks.Callback):\n",
        "  def on_epoch_end(self, epoch, logs={}):\n",
        "    if(logs.get('accuracy')>0.95):\n",
        "      print(\"\\nReached 95% accuracy so cancelling training!\")\n",
        "      self.model.stop_training = True\n",
        "callbacks = myCallback()\n",
        "\n",
        "model.fit(callbacks=[callbacks])"
      ],
      "metadata": {
        "id": "PxumVUsYuo5-"
      },
      "execution_count": null,
      "outputs": []
    },
    {
      "cell_type": "code",
      "source": [
        "#convolutions\n",
        "tf.keras.layers.Conv2D(64, (3, 3), activation='relu',\n",
        "                       input_shape=(28, 28, 1)),\n",
        "64 convolutions\n",
        "(3, 3)filter(28, 28, 1)input_shape\n",
        "\n",
        "tf.keras.layers.MaxPooling2D(2, 2)\n"
      ],
      "metadata": {
        "id": "CLhwfBTvvpFS"
      },
      "execution_count": null,
      "outputs": []
    },
    {
      "cell_type": "code",
      "source": [
        "#data.load_data()\n",
        "for API data callbacks"
      ],
      "metadata": {
        "id": "gCnDRELoszqr"
      },
      "execution_count": null,
      "outputs": []
    },
    {
      "cell_type": "code",
      "source": [
        "#Dense-\n",
        "Layer where every neuron is connected to every other neuron of the next layer"
      ],
      "metadata": {
        "id": "ZgT5oXihoF5y"
      },
      "execution_count": null,
      "outputs": []
    },
    {
      "cell_type": "code",
      "execution_count": null,
      "metadata": {
        "id": "tAoFXPxF3012"
      },
      "outputs": [],
      "source": [
        "#filters\n",
        "Is the number of filters that you want the layer to learn. \n",
        "It will generate this number and adjust them over time to fit your data as it learns\n",
        "Hyperparameters, with Keras tuner(filters=hp.Int('units',min_value=128, max_value=256, step=64),"
      ]
    },
    {
      "cell_type": "code",
      "source": [
        "#flatten\n",
        "Input layer specification\n",
        "turns 2D array into a 1D array"
      ],
      "metadata": {
        "id": "z9He9kUYqVJQ"
      },
      "execution_count": null,
      "outputs": []
    },
    {
      "cell_type": "code",
      "source": [
        "#freeze training\n",
        "for layer in pre_trained_model.layers:\n",
        "  layer.trainable = False\n",
        "  "
      ],
      "metadata": {
        "id": "TZjjLxNV0_53"
      },
      "execution_count": null,
      "outputs": []
    },
    {
      "cell_type": "code",
      "source": [
        "#hyperparameter tuning\n",
        "a value that is used to control the training to prevent overfitting"
      ],
      "metadata": {
        "id": "wBr3iq8yqnNf"
      },
      "execution_count": null,
      "outputs": []
    },
    {
      "cell_type": "code",
      "source": [
        "#input_shape\n",
        "Input shape of the data passed into the network. "
      ],
      "metadata": {
        "id": "dRR0xxbh5ZS3"
      },
      "execution_count": null,
      "outputs": []
    },
    {
      "cell_type": "code",
      "source": [
        "#ImageDataGenerator\n",
        "from tensorflow.keras.preprocessing.image import ImageDataGenerator\n",
        "\n",
        "#rescaling\n",
        "train_datagen = ImageDataGenerator(rescale=1/255)\n"
      ],
      "metadata": {
        "id": "-HLKIBbbwy-z"
      },
      "execution_count": null,
      "outputs": []
    },
    {
      "cell_type": "code",
      "source": [
        "#ImageDataGenerator transformations\n",
        "\n",
        "train_datagen = ImageDataGenerator(\n",
        "    rescale=1./255,\n",
        "    rotation_range=40,\n",
        "    width_shift_range=0.2,\n",
        "    height_shift_range=0.2,\n",
        "    shear_range=0.2,\n",
        "    zoom_range=0.2,\n",
        "    horizontal_flip=True,\n",
        "    fill_mode='nearest'\n",
        "    )\n",
        "Rotating each image randomly up to 40 degrees left or right\n",
        "• Translating the image up to 20% vertically or horizontally\n",
        "• Shearing the image by up to 20%\n",
        "• Zooming the image by up to 20%\n",
        "• Randomly flipping the image horizontally or vertically\n",
        "• Filling in any missing pixels after a move or shear with nearest neighbors"
      ],
      "metadata": {
        "id": "w0Xq0nVVxlZ1"
      },
      "execution_count": null,
      "outputs": []
    },
    {
      "cell_type": "code",
      "source": [
        "#Inception\n",
        "Model from Google trained from a database called ImageNet\n",
        "from tensorflow.keras.application.inception_v3 import Inception_v3\n",
        "weights_url = \"https://storage.googleapis.com/mledudatasets/\n",
        "inception_v3_weights_tf_dim_ordering_tf_kernels_notop.h5\"\n",
        "weights_file = \"inception_v3.h5\"\n",
        "urllib.request.urlretrieve(weights_url, weights_file)\n",
        "pre_trained_model = InceptionV3(input_shape=(150, 150, 3),\n",
        "include_top=False,\n",
        "weights=None)\n",
        "pre_trained_model.load_weights(weights_file)\n"
      ],
      "metadata": {
        "id": "0nvVdegCz-8V"
      },
      "execution_count": null,
      "outputs": []
    },
    {
      "cell_type": "code",
      "source": [
        "#kernal_size \n",
        "Is the size of the filter, like a filter on a 1D tensor with the values -.5,1,-0.5, which would be a kernal\n",
        "size of 3\n",
        "Hp_tf_tuner(kernel_size=hp.Int('kernels', min_value=3, max_value=9, step=3),"
      ],
      "metadata": {
        "id": "75JMPVp94GLf"
      },
      "execution_count": null,
      "outputs": []
    },
    {
      "cell_type": "code",
      "source": [
        "#loss function\n",
        "Measures how good or bad a guess is\n"
      ],
      "metadata": {
        "id": "lb3Zd1K4oRYn"
      },
      "execution_count": null,
      "outputs": []
    },
    {
      "cell_type": "code",
      "source": [
        "#model.fit\n",
        "The learning process begins with this"
      ],
      "metadata": {
        "id": "-MDWZYw2o57X"
      },
      "execution_count": null,
      "outputs": []
    },
    {
      "cell_type": "code",
      "source": [
        "#normalizing\n",
        "if the picture has values 0 to 255\n",
        "training_image = training_image / 255.0\n",
        "will ensure that every pixel is represented between 0 and 1"
      ],
      "metadata": {
        "id": "wQi32ABus_Y4"
      },
      "execution_count": null,
      "outputs": []
    },
    {
      "cell_type": "code",
      "source": [
        "#Optimizer\n",
        "Uses the loss function to make better guesses\n",
        "Types\n",
        "1. SGD(stochastic gradient descent)-when given the values, the previous guess\n",
        "and the results of calculating the errors(or loss) on that guess, \n",
        "can generate another one. "
      ],
      "metadata": {
        "id": "vv006EO3obUE"
      },
      "execution_count": null,
      "outputs": []
    },
    {
      "cell_type": "code",
      "source": [
        "#padding\n",
        "Determines the behaviour of the list with regard to which end data ts dropped from. \n",
        "A 3 X 1 filter will \"lose\" the first and last value of the list because it cannot calculate\n",
        "the prior value for the first, or the subsequent value for the last. \n",
        "Typically with Sequence data youll use Causal here, which will onky take data from the \n",
        "current and previous time steps, never future ones.\n",
        "so 3 X 1 will take the current time step with the previous two. "
      ],
      "metadata": {
        "id": "BqHaGQhK4h_B"
      },
      "execution_count": null,
      "outputs": []
    },
    {
      "cell_type": "code",
      "source": [
        "#parameter\n",
        "create a new class myCallback\n",
        "this takes tf.keras.callbacks.Callback as a parameter\n"
      ],
      "metadata": {
        "id": "dkXFUwsXuvoS"
      },
      "execution_count": null,
      "outputs": []
    },
    {
      "cell_type": "code",
      "source": [
        "#pooling\n",
        "process of eliminating pixels in your image while maintaining the semantics of the content \n",
        "within the image1. \n",
        "1. Maxpooling(Pick the max value)\n",
        "2. Minpooling(Pick the min value)\n"
      ],
      "metadata": {
        "id": "H4zGsfWgvRR3"
      },
      "execution_count": null,
      "outputs": []
    },
    {
      "cell_type": "code",
      "source": [
        "#relu\n",
        "rectified linear unit\n",
        "a simple function that returns a value if it's greater than 0\n",
        "eliminates negative values"
      ],
      "metadata": {
        "id": "SSlPpQ_oqye3"
      },
      "execution_count": null,
      "outputs": []
    },
    {
      "cell_type": "code",
      "source": [
        "#RMSprop \n",
        "root mean square propagation\n",
        "model.compile(optimizer=RMSprop(lr=0.001),)"
      ],
      "metadata": {
        "id": "S5LUuUqgxRu5"
      },
      "execution_count": null,
      "outputs": []
    },
    {
      "cell_type": "code",
      "source": [
        "#RNN\n",
        "RNNs are designed for maintaining context, so\n",
        "previous values can have an effect on later ones\n",
        "Notably, an RNN has an internal loop that iterates over the time steps of a\n",
        "sequence while maintaining an internal state of the time steps it has seen so far. A\n",
        "SimpleRNN has the output of each time step fed into the next time step."
      ],
      "metadata": {
        "id": "Yhb0U3Wm7C4O"
      },
      "execution_count": null,
      "outputs": []
    },
    {
      "cell_type": "code",
      "source": [
        "#Sequential- Model Type\n"
      ],
      "metadata": {
        "id": "NlCeiKTOn6LJ"
      },
      "execution_count": null,
      "outputs": []
    },
    {
      "cell_type": "code",
      "source": [
        "#Softmax\n",
        "Determines the highest value of output from the neurons"
      ],
      "metadata": {
        "id": "a4qQ_6qlsRTI"
      },
      "execution_count": null,
      "outputs": []
    },
    {
      "cell_type": "code",
      "source": [
        "#sparse_categorial_crossentropy\n",
        "When picking a category \n",
        "like out of 10 items\n"
      ],
      "metadata": {
        "id": "xtdRtOxOtay1"
      },
      "execution_count": null,
      "outputs": []
    },
    {
      "cell_type": "code",
      "source": [
        "#strides \n",
        "Is the size of the 'step' that the filter will take as it scans across the list. this is typically 1\n",
        "hp_keras_tuner(strides=hp.Int('strides', min_value=1, max_value=3, step=1),)\n"
      ],
      "metadata": {
        "id": "-l97pNk64Z2H"
      },
      "execution_count": null,
      "outputs": []
    },
    {
      "cell_type": "code",
      "source": [
        "#tf.keras.datasets\n",
        "build in API datasets"
      ],
      "metadata": {
        "id": "zH-GXM0QsrEi"
      },
      "execution_count": null,
      "outputs": []
    },
    {
      "cell_type": "code",
      "source": [
        "#weights\n",
        "y = wx + b\n",
        "lo= Dense(units=1, input_shape=[1])\n",
        ".format(lo.get_weights()))"
      ],
      "metadata": {
        "id": "RADmOQqIpTe8"
      },
      "execution_count": null,
      "outputs": []
    }
  ]
}